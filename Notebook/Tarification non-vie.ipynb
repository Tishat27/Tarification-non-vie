{
 "cells": [
  {
   "cell_type": "code",
   "execution_count": null,
   "id": "2947d60f",
   "metadata": {},
   "outputs": [],
   "source": [
    "# Tarification Non-Vie - Notebook Jupyter\n",
    "\n",
    "# Cellule 1: Imports\n",
    "import pandas as pd\n",
    "import numpy as np\n",
    "import matplotlib.pyplot as plt\n",
    "import seaborn as sns\n",
    "from sklearn.model_selection import train_test_split\n",
    "from sklearn.metrics import mean_squared_error, mean_absolute_error\n",
    "import statsmodels.api as sm\n",
    "from sklearn.ensemble import GradientBoostingRegressor\n",
    "import warnings\n",
    "import rpy2.robjects as robjects\n",
    "from rpy2.robjects import pandas2ri\n",
    "from rpy2.robjects.packages import importr\n",
    "warnings.filterwarnings(\"ignore\")\n",
    "\n",
    "\n"
   ]
  },
  {
   "cell_type": "code",
   "execution_count": null,
   "id": "fe89fda0",
   "metadata": {},
   "outputs": [],
   "source": [
    "\n",
    "# Activer la conversion R → pandas\n",
    "pandas2ri.activate()\n",
    "\n",
    "#Installation des packages de base de R\n",
    "utils = importr('utils')\n",
    "#base = importr('base')\n",
    "\n",
    "utils.chooseCRANmirror(ind=1)\n",
    "utils.install_packages('CASdatasets')\n",
    "\n",
    "cas=importr('CASdatasets')\n",
    "\n",
    "\n",
    "#Les variables de type factor (par ex. VehBrand, VehGas, etc.) sont codées en entiers en R, mais leur affichage dépend des labels.\n",
    "\n",
    "#Si on les importe directement, rpy2 importe les entiers sans les labels → d’où les noms en chiffres que tu vois.\n",
    "\n",
    "#Le fait de les convertir en chaînes de caractères (as.character) dans R permet de préserver les labels textuels dans pandas.\n",
    "\n",
    "robjects.r('data(freMTPL2freq)')\n",
    "robjects.r('data(freMTPL2sev)')\n",
    "robjects.r('freMTPL2freq[] <- lapply(freMTPL2freq, function(x) if (is.factor(x)) as.character(x) else x)')\n",
    "robjects.r('freMTPL2sev[] <- lapply(freMTPL2sev, function(x) if (is.factor(x)) as.character(x) else x)')\n",
    "\n",
    "\n",
    "# Récupérer l’objet freMTPL\n",
    "\n",
    "df_freq= robjects.r('freMTPL2freq')\n",
    "df_sev=robjects.r('freMTPL2sev')\n",
    "\n",
    "# Le convertir en DataFrame pandas\n",
    "\n",
    "df = pandas2ri.rpy2py(df_freq)\n",
    "d_sev=pandas2ri.rpy2py(df_sev)\n",
    "\n",
    "\n",
    "# Vérification des polices uniques et communes\n",
    "results = []\n",
    "\n",
    "unique_policies = df['IDpol'].nunique()\n",
    "results.append([\"Polices uniques dans df\", unique_policies])\n",
    "\n",
    "common_policies = set(d_sev['IDpol']).intersection(set(df['IDpol']))\n",
    "results.append([\"Polices communes entre d_sev et df\", len(common_policies)])\n",
    "\n",
    "# Création du DataFrame pour afficher les résultats sous forme de table\n",
    "df_results = pd.DataFrame(results, columns=[\"Vérification\", \"Valeur\"])\n",
    "print(df_results)\n",
    "\n",
    "##6 polices n'ont pas de caractéristiques dans la table principale\n",
    "TotalClaim_b=d_sev['ClaimAmount'].sum()\n",
    "non_common_policies = d_sev[~d_sev['IDpol'].isin(df['IDpol'])]\n",
    "d_sev = d_sev[d_sev['IDpol'].isin(df['IDpol'])]\n",
    "##Multiples lignes pour une police dans sev\n",
    "sev=d_sev.groupby(\"IDpol\").agg(ClaimAmount=(\"ClaimAmount\",\"sum\"),\n",
    "                         Claimsevnb=(\"IDpol\",\"count\")).reset_index()\n",
    "\n",
    "TotalClaim_a=d_sev['ClaimAmount'].sum()\n",
    "\n",
    "TotalClaim_a/TotalClaim_b\n",
    "\n",
    "data= pd.merge(df,sev,on=\"IDpol\",how=\"outer\")\n",
    "data['ClaimAmount'].fillna(0, inplace = True)\n",
    "data['Claimsevnb'].fillna(0, inplace = True)\n"
   ]
  },
  {
   "cell_type": "code",
   "execution_count": null,
   "id": "f665654d",
   "metadata": {},
   "outputs": [],
   "source": [
    "# Cellule 2: Chargement des données\n",
    "data = pd.read_csv(\"../data/data.csv\")\n",
    "data = data.drop(columns=[\"Unnamed: 0\", \"IDpol\"], errors='ignore')\n",
    "data = data[data[\"Exposure\"] > 0].copy()\n",
    "data[\"PurePremium\"] = data[\"ClaimAmount\"] / data[\"Exposure\"]\n",
    "\n"
   ]
  },
  {
   "cell_type": "code",
   "execution_count": null,
   "id": "db575fae",
   "metadata": {},
   "outputs": [],
   "source": [
    "# Cellule 3: Exploration des données\n",
    "fig, axs = plt.subplots(1, 2, figsize=(12, 5))\n",
    "sns.histplot(data['ClaimNb'], bins=20, kde=False, ax=axs[0])\n",
    "axs[0].set_title(\"Distribution du nombre de sinistres\")\n",
    "sns.histplot(data['PurePremium'], bins=50, kde=True, ax=axs[1])\n",
    "axs[1].set_title(\"Distribution de la prime pure\")\n",
    "plt.tight_layout()\n",
    "plt.show()\n",
    "\n"
   ]
  },
  {
   "cell_type": "code",
   "execution_count": null,
   "id": "20c0d23f",
   "metadata": {},
   "outputs": [],
   "source": [
    "# Cellule 4: Encodage des variables catégorielles\n",
    "cat_vars = [\"VehBrand\", \"VehGas\", \"Area\", \"Region\"]\n",
    "data_encoded = pd.get_dummies(data, columns=cat_vars, drop_first=True)\n"
   ]
  },
  {
   "cell_type": "code",
   "execution_count": null,
   "id": "ac0ab197",
   "metadata": {},
   "outputs": [],
   "source": [
    "\n",
    "# Cellule 5: Définition des features\n",
    "features = [col for col in data_encoded.columns if col not in [\"ClaimAmount\", \"ClaimNb\", \"Exposure\", \"Claimsevnb\", \"PurePremium\"]]\n",
    "X = data_encoded[features]\n",
    "y = data_encoded[\"PurePremium\"]\n",
    "\n"
   ]
  },
  {
   "cell_type": "code",
   "execution_count": null,
   "id": "93b437d6",
   "metadata": {},
   "outputs": [],
   "source": [
    "# Cellule 6: Train/test split\n",
    "X_train, X_test, y_train, y_test = train_test_split(X, y, test_size=0.3, random_state=42)\n",
    "\n"
   ]
  },
  {
   "cell_type": "code",
   "execution_count": null,
   "id": "6b0af162",
   "metadata": {},
   "outputs": [],
   "source": [
    "# Cellule 7: Modèle XGBoost\n",
    "xgb_model = GradientBoostingRegressor(n_estimators=100, learning_rate=0.1, max_depth=5)\n",
    "xgb_model.fit(X_train, y_train)\n",
    "y_pred = xgb_model.predict(X_test)\n",
    "rmse = mean_squared_error(y_test, y_pred, squared=False)\n",
    "mae = mean_absolute_error(y_test, y_pred)\n",
    "print(f\"\\nRMSE : {rmse:.2f} - MAE : {mae:.2f}\")\n",
    "\n"
   ]
  },
  {
   "cell_type": "code",
   "execution_count": null,
   "id": "15ae186c",
   "metadata": {},
   "outputs": [],
   "source": [
    "# Cellule 8: Graphique d’importance des variables\n",
    "importances = pd.Series(xgb_model.feature_importances_, index=X.columns).sort_values(ascending=False)\n",
    "plt.figure(figsize=(10,6))\n",
    "importances[:15].plot(kind='barh')\n",
    "plt.title(\"Top 15 variables importantes\")\n",
    "plt.gca().invert_yaxis()\n",
    "plt.tight_layout()\n",
    "plt.show()\n",
    "\n"
   ]
  },
  {
   "cell_type": "code",
   "execution_count": null,
   "id": "01215923",
   "metadata": {},
   "outputs": [],
   "source": [
    "# Cellule 9: GLM Poisson (fréquence)\n",
    "y_freq = data_encoded[\"ClaimNb\"]\n",
    "data_encoded[\"log_Exposure\"] = np.log(data_encoded[\"Exposure\"])\n",
    "X_glm = sm.add_constant(X)\n",
    "glm_poisson = sm.GLM(y_freq, X_glm, offset=data_encoded[\"log_Exposure\"], family=sm.families.Poisson()).fit()\n",
    "print(glm_poisson.summary())"
   ]
  },
  {
   "cell_type": "code",
   "execution_count": null,
   "id": "1ec09c80",
   "metadata": {},
   "outputs": [],
   "source": []
  },
  {
   "cell_type": "code",
   "execution_count": null,
   "id": "c528258b",
   "metadata": {},
   "outputs": [],
   "source": []
  },
  {
   "cell_type": "code",
   "execution_count": null,
   "id": "de19726b",
   "metadata": {},
   "outputs": [],
   "source": []
  },
  {
   "cell_type": "code",
   "execution_count": null,
   "id": "80aa67c3",
   "metadata": {},
   "outputs": [],
   "source": []
  },
  {
   "cell_type": "code",
   "execution_count": null,
   "id": "057c0532",
   "metadata": {},
   "outputs": [],
   "source": []
  },
  {
   "cell_type": "code",
   "execution_count": null,
   "id": "1466ed9b",
   "metadata": {},
   "outputs": [],
   "source": []
  },
  {
   "cell_type": "code",
   "execution_count": null,
   "id": "2389e558",
   "metadata": {},
   "outputs": [],
   "source": []
  },
  {
   "cell_type": "code",
   "execution_count": null,
   "id": "b691764d",
   "metadata": {},
   "outputs": [],
   "source": []
  },
  {
   "cell_type": "code",
   "execution_count": null,
   "id": "a2f304c4",
   "metadata": {},
   "outputs": [],
   "source": []
  }
 ],
 "metadata": {
  "kernelspec": {
   "display_name": "Python 3 (ipykernel)",
   "language": "python",
   "name": "python3"
  },
  "language_info": {
   "codemirror_mode": {
    "name": "ipython",
    "version": 3
   },
   "file_extension": ".py",
   "mimetype": "text/x-python",
   "name": "python",
   "nbconvert_exporter": "python",
   "pygments_lexer": "ipython3",
   "version": "3.11.4"
  }
 },
 "nbformat": 4,
 "nbformat_minor": 5
}
